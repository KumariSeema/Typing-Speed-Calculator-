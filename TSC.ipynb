{
 "cells": [
  {
   "cell_type": "markdown",
   "id": "bfd7ef1b",
   "metadata": {},
   "source": [
    "# Typing Speed Calculator using python."
   ]
  },
  {
   "cell_type": "code",
   "execution_count": 1,
   "id": "044f2d9c",
   "metadata": {},
   "outputs": [
    {
     "name": "stdout",
     "output_type": "stream",
     "text": [
      "Ready to test : yes/no: = yes\n",
      "***** Typing Speed*****\n",
      "It cost Rs zero to be nice person\n",
      "\n",
      "\n",
      "Enter: It cost Rs zero to be a nice person\n",
      "Speed :  2 w/sec\n",
      "Error :  33\n",
      "Ready to test : yes/no: = no\n",
      "Thank you\n"
     ]
    }
   ],
   "source": [
    "from time import *\n",
    "import random as r\n",
    "\n",
    "def mistake(partest,usertest):\n",
    "    error = 0 \n",
    "    for i in range (len(partest)):\n",
    "        try:\n",
    "            if paratest[i] != usertest[i]:\n",
    "                error = error + 1\n",
    "        except:\n",
    "                error = error + 1\n",
    "    return error \n",
    "\n",
    "def speed_time(time_s,time_e,userinput):\n",
    "    time_delay = time_e - time_s\n",
    "    time_r = round(time_delay,2)\n",
    "    speed = len(userinput)/time_r\n",
    "    return round(speed)\n",
    "                \n",
    "while True:\n",
    "    check = input(\"Ready to test : yes/no: = \")\n",
    "    if check == \"yes\":\n",
    "        test = [\"Time will resolve everything\",\n",
    "        \"Coffee can't offer the peace that tea does\",\n",
    "        \"It cost Rs zero to be nice person\",\n",
    "        \"World is full of nice people if you can't find one be the one\"]\n",
    "        test_1 = r.choice(test)\n",
    "        print(\"***** Typing Speed*****\")\n",
    "        print(test_1)\n",
    "        print()\n",
    "        print()\n",
    "        time_1 = time()\n",
    "        test_input = input(\"Enter: \")\n",
    "        time_2 = time()\n",
    "        \n",
    "        print(\"Speed : \",speed_time(time_1, time_2, test_input),\"w/sec\")\n",
    "        print(\"Error : \", mistake(test_1,test_input))\n",
    "    elif check == \"no\":\n",
    "        print(\"Thank you\")\n",
    "        break\n",
    "    else : \n",
    "        print(\"Wrong Input\")"
   ]
  }
 ],
 "metadata": {
  "kernelspec": {
   "display_name": "Python 3 (ipykernel)",
   "language": "python",
   "name": "python3"
  },
  "language_info": {
   "codemirror_mode": {
    "name": "ipython",
    "version": 3
   },
   "file_extension": ".py",
   "mimetype": "text/x-python",
   "name": "python",
   "nbconvert_exporter": "python",
   "pygments_lexer": "ipython3",
   "version": "3.9.12"
  }
 },
 "nbformat": 4,
 "nbformat_minor": 5
}
